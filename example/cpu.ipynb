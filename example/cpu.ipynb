{
 "cells": [
  {
   "cell_type": "code",
   "execution_count": 1,
   "metadata": {},
   "outputs": [],
   "source": [
    "import time\n",
    "import qptools\n",
    "import numpy as np\n",
    "import pandas as pd\n",
    "import cvxopt"
   ]
  },
  {
   "cell_type": "code",
   "execution_count": 2,
   "metadata": {},
   "outputs": [],
   "source": [
    "def read_csv(path):\n",
    "    A = pd.read_csv(path, sep=\",\", header=None).values\n",
    "    return A\n",
    "\n",
    "P = read_csv(\"../../data/P.csv\")\n",
    "q = read_csv(\"../../data/q.csv\")\n",
    "G0 = read_csv(\"../../data/G0.csv\")\n",
    "h0 = read_csv(\"../../data/h0.csv\")\n",
    "G1 = read_csv(\"../../data/G1.csv\")\n",
    "h1 = read_csv(\"../../data/h1.csv\")\n",
    "G2 = read_csv(\"../../data/G2.csv\")\n",
    "h2 = read_csv(\"../../data/h2.csv\")\n",
    "lb = read_csv(\"../../data/lb.csv\")\n",
    "rb = read_csv(\"../../data/rb.csv\")"
   ]
  },
  {
   "cell_type": "code",
   "execution_count": 7,
   "metadata": {},
   "outputs": [
    {
     "name": "stdout",
     "output_type": "stream",
     "text": [
      "124.87495732307434\n",
      "[7.42291751e-12 5.18156324e-04 6.41010716e-04 ... 1.61049777e-04\n",
      " 4.70246567e-04 5.70574480e-05]\n"
     ]
    }
   ],
   "source": [
    "start = time.time()\n",
    "x1 = qptools.qp1(P=P, lb=lb, rb=rb, G=G0, h=h0)\n",
    "print(time.time() - start)\n",
    "print(x1)"
   ]
  },
  {
   "cell_type": "code",
   "execution_count": 8,
   "metadata": {},
   "outputs": [
    {
     "name": "stdout",
     "output_type": "stream",
     "text": [
      "     pcost       dcost       gap    pres   dres\n",
      " 0:  9.6454e-03 -2.1872e+00  5e+03  7e+01  5e+01\n",
      " 1:  3.9070e-02 -2.2131e+00  8e+01  1e+00  8e-01\n",
      " 2:  4.9113e-02 -1.9656e+00  7e+00  8e-02  6e-02\n",
      " 3:  6.2733e-02 -9.1397e-01  1e+00  4e-03  3e-03\n",
      " 4:  5.9594e-02 -1.2728e-01  2e-01  2e-04  2e-04\n",
      " 5:  4.8809e-02  2.1174e-02  3e-02  3e-05  2e-05\n",
      " 6:  4.0691e-02  3.4934e-02  6e-03  4e-06  3e-06\n",
      " 7:  3.8304e-02  3.7100e-02  1e-03  5e-07  3e-07\n",
      " 8:  3.7768e-02  3.7628e-02  1e-04  4e-08  3e-08\n",
      " 9:  3.7699e-02  3.7693e-02  6e-06  8e-10  6e-10\n",
      "10:  3.7696e-02  3.7696e-02  2e-07  1e-11  6e-11\n",
      "11:  3.7696e-02  3.7696e-02  5e-09  2e-13  3e-10\n",
      "Optimal solution found.\n",
      "14.732164144515991\n",
      "[7.42291740e-12 5.18156324e-04 6.41010716e-04 ... 1.61049777e-04\n",
      " 4.70246567e-04 5.70574480e-05]\n"
     ]
    }
   ],
   "source": [
    "start = time.time()\n",
    "x2 = cvxopt.solvers.qp(P=cvxopt.matrix(P), q=cvxopt.matrix(q), G=cvxopt.matrix(G1), h=cvxopt.matrix(h1))[\"x\"]\n",
    "x2 = np.array(x2).squeeze()\n",
    "print(time.time() - start)\n",
    "print(x2)"
   ]
  },
  {
   "cell_type": "code",
   "execution_count": 9,
   "metadata": {},
   "outputs": [
    {
     "name": "stdout",
     "output_type": "stream",
     "text": [
      "3.8815263860132134e-14\n"
     ]
    }
   ],
   "source": [
    "print(abs(x1 - x2).mean())"
   ]
  }
 ],
 "metadata": {
  "kernelspec": {
   "display_name": "pytest",
   "language": "python",
   "name": "pytest"
  },
  "language_info": {
   "codemirror_mode": {
    "name": "ipython",
    "version": 3
   },
   "file_extension": ".py",
   "mimetype": "text/x-python",
   "name": "python",
   "nbconvert_exporter": "python",
   "pygments_lexer": "ipython3",
   "version": "3.12.4"
  }
 },
 "nbformat": 4,
 "nbformat_minor": 4
}

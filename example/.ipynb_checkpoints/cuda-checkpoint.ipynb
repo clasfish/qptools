{
 "cells": [
  {
   "cell_type": "code",
   "execution_count": 2,
   "metadata": {},
   "outputs": [
    {
     "name": "stdout",
     "output_type": "stream",
     "text": [
      "/usr/local/nvidia/lib:/usr/local/nvidia/lib64\n"
     ]
    }
   ],
   "source": [
    "!echo $LD_LIBRARY_PATH"
   ]
  },
  {
   "cell_type": "code",
   "execution_count": 1,
   "metadata": {},
   "outputs": [],
   "source": [
    "import time\n",
    "import qptools.cuda\n",
    "import numpy as np\n",
    "import pandas as pd\n",
    "import cvxopt\n",
    "handle = qptools.cuda.Handle()"
   ]
  },
  {
   "cell_type": "code",
   "execution_count": 2,
   "metadata": {},
   "outputs": [],
   "source": [
    "def read_csv_cvxopt(path):\n",
    "    A = pd.read_csv(path, sep=\",\", header=None).values\n",
    "    A = cvxopt.matrix(A)\n",
    "    return A\n",
    "\n",
    "def read_csv_qptools(path):\n",
    "    A = pd.read_csv(path, sep=\",\", header=None).values\n",
    "    A = qptools.cuda.matrix(A)\n",
    "    return A"
   ]
  },
  {
   "cell_type": "code",
   "execution_count": 3,
   "metadata": {},
   "outputs": [
    {
     "name": "stdout",
     "output_type": "stream",
     "text": [
      "13.229866981506348\n"
     ]
    }
   ],
   "source": [
    "P = read_csv_cvxopt(\"../../data/P.csv\")\n",
    "q = read_csv_cvxopt(\"../../data/q.csv\")\n",
    "G1 = read_csv_cvxopt(\"../../data/G1.csv\")\n",
    "h1 = read_csv_cvxopt(\"../../data/h1.csv\")\n",
    "cvxopt.solvers.options['show_progress'] = False\n",
    "start = time.time()\n",
    "x1 = cvxopt.solvers.qp(P=P, q=q, G=G1, h=h1)\n",
    "x1 = np.array(x1).squeeze()\n",
    "print(time.time() - start)"
   ]
  },
  {
   "cell_type": "code",
   "execution_count": 8,
   "metadata": {},
   "outputs": [
    {
     "name": "stdout",
     "output_type": "stream",
     "text": [
      "0.28572559356689453\n"
     ]
    }
   ],
   "source": [
    "P = read_csv_qptools(\"../../data/P.csv\")\n",
    "q = read_csv_qptools(\"../../data/q.csv\")\n",
    "G0 = read_csv_qptools(\"../../data/G0.csv\")\n",
    "h0 = read_csv_qptools(\"../../data/h0.csv\")\n",
    "lb = read_csv_qptools(\"../../data/lb.csv\")\n",
    "rb = read_csv_qptools(\"../../data/rb.csv\")\n",
    "start = time.time()\n",
    "x2 = qptools.cuda.qp1(handle, P=P, lb=lb, rb=rb, G=G0, h=h0)\n",
    "print(time.time() - start)"
   ]
  },
  {
   "cell_type": "code",
   "execution_count": 12,
   "metadata": {},
   "outputs": [
    {
     "name": "stdout",
     "output_type": "stream",
     "text": [
      "5.1155187818726607e-14\n"
     ]
    }
   ],
   "source": [
    "print(np.mean(abs(x1 - x2)))"
   ]
  }
 ],
 "metadata": {
  "kernelspec": {
   "display_name": "pytest",
   "language": "python",
   "name": "pytest"
  },
  "language_info": {
   "codemirror_mode": {
    "name": "ipython",
    "version": 3
   },
   "file_extension": ".py",
   "mimetype": "text/x-python",
   "name": "python",
   "nbconvert_exporter": "python",
   "pygments_lexer": "ipython3",
   "version": "3.12.4"
  }
 },
 "nbformat": 4,
 "nbformat_minor": 4
}

{
 "cells": [
  {
   "cell_type": "code",
   "execution_count": 1,
   "metadata": {},
   "outputs": [],
   "source": [
    "import time\n",
    "import qptools.cuda\n",
    "import numpy as np\n",
    "import pandas as pd\n",
    "import cvxopt\n",
    "handle = qptools.cuda.Handle()"
   ]
  },
  {
   "cell_type": "code",
   "execution_count": 2,
   "metadata": {},
   "outputs": [],
   "source": [
    "def read_csv(path):\n",
    "    A = pd.read_csv(path, sep=\",\", header=None).values\n",
    "    #A = np.loadtxt(path, delimiter=\",\", dtype=np.double)\n",
    "    return A\n",
    "\n",
    "P = read_csv(\"../../data/P.csv\")\n",
    "q = read_csv(\"../../data/q.csv\")\n",
    "G0 = read_csv(\"../../data/G0.csv\")\n",
    "h0 = read_csv(\"../../data/h0.csv\")\n",
    "G1 = read_csv(\"../../data/G1.csv\")\n",
    "h1 = read_csv(\"../../data/h1.csv\")\n",
    "G2 = read_csv(\"../../data/G2.csv\")\n",
    "h2 = read_csv(\"../../data/h2.csv\")\n",
    "lb = read_csv(\"../../data/lb.csv\")\n",
    "rb = read_csv(\"../../data/rb.csv\")"
   ]
  },
  {
   "cell_type": "code",
   "execution_count": 3,
   "metadata": {},
   "outputs": [],
   "source": [
    "P = qptools.cuda.matrix(P)\n",
    "lb = qptools.cuda.matrix(lb)\n",
    "rb = qptools.cuda.matrix(rb)\n",
    "G0 = qptools.cuda.matrix(G0)\n",
    "h0 = qptools.cuda.matrix(h0)"
   ]
  },
  {
   "cell_type": "code",
   "execution_count": 11,
   "metadata": {},
   "outputs": [
    {
     "name": "stdout",
     "output_type": "stream",
     "text": [
      "0.297283411026001\n",
      "[7.42291743e-12 5.18156324e-04 6.41010716e-04 ... 1.61049777e-04\n",
      " 4.70246567e-04 5.70574480e-05]\n"
     ]
    }
   ],
   "source": [
    "start = time.time()\n",
    "x1 = qptools.cuda.qp1(handle, P=P, lb=lb, rb=rb, G=G0, h=h0)\n",
    "print(time.time() - start)\n",
    "print(x1)"
   ]
  },
  {
   "cell_type": "code",
   "execution_count": 5,
   "metadata": {},
   "outputs": [
    {
     "name": "stdout",
     "output_type": "stream",
     "text": [
      "[7.42291740e-12 5.18156324e-04 6.41010716e-04 ... 1.61049777e-04\n",
      " 4.70246567e-04 5.70574480e-05]\n"
     ]
    }
   ],
   "source": [
    "cvxopt.solvers.options['show_progress'] = False\n",
    "x2 = cvxopt.solvers.qp(P=cvxopt.matrix(P), q=cvxopt.matrix(q), G=cvxopt.matrix(G1), h=cvxopt.matrix(h1))['x']\n",
    "x2 = np.array(x2).squeeze()\n",
    "print(x2)"
   ]
  },
  {
   "cell_type": "code",
   "execution_count": 12,
   "metadata": {},
   "outputs": [
    {
     "name": "stdout",
     "output_type": "stream",
     "text": [
      "5.1155187818726607e-14\n"
     ]
    }
   ],
   "source": [
    "print(np.mean(abs(x1 - x2)))"
   ]
  }
 ],
 "metadata": {
  "kernelspec": {
   "display_name": "pytest",
   "language": "python",
   "name": "pytest"
  },
  "language_info": {
   "codemirror_mode": {
    "name": "ipython",
    "version": 3
   },
   "file_extension": ".py",
   "mimetype": "text/x-python",
   "name": "python",
   "nbconvert_exporter": "python",
   "pygments_lexer": "ipython3",
   "version": "3.12.4"
  }
 },
 "nbformat": 4,
 "nbformat_minor": 4
}

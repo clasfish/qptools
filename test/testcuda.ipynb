{
 "cells": [
  {
   "cell_type": "code",
   "execution_count": null,
   "metadata": {},
   "outputs": [],
   "source": [
    "import numpy as np\n",
    "import cvxopt\n",
    "import qptools.cuda\n",
    "def read_csv(path):\n",
    "    #A = pd.read_csv(path, sep=\",\", header=None).values\n",
    "    A = np.loadtxt(path, delimiter=\",\", dtype=np.double)\n",
    "    return A\n",
    "\n",
    "P = read_csv(\"../../data/P.csv\")\n",
    "q = read_csv(\"../../data/q.csv\")\n",
    "G0 = read_csv(\"../../data/G0.csv\").reshape(1, -1)\n",
    "h0 = read_csv(\"../../data/h0.csv\")\n",
    "G1 = read_csv(\"../../data/G1.csv\")\n",
    "h1 = read_csv(\"../../data/h1.csv\")\n",
    "G2 = read_csv(\"../../data/G2.csv\")\n",
    "h2 = read_csv(\"../../data/h2.csv\")\n",
    "lb = read_csv(\"../../data/lb.csv\")\n",
    "rb = read_csv(\"../../data/rb.csv\")"
   ]
  },
  {
   "cell_type": "code",
   "execution_count": null,
   "metadata": {},
   "outputs": [],
   "source": [
    "P = qptools.cuda.matrix(P)\n",
    "lb = qptools.cuda.matrix(lb)\n",
    "rb = qptools.cuda.matrix(rb)\n",
    "G = qptools.cuda.matrix(G0)\n",
    "h = qptools.cuda.matrix(h0)\n",
    "cublas_handle = qptools.cuda.CublasHandle()\n",
    "cusolver_handle = qptools.cuda.CusolverHandle()\n",
    "x1 = qptools.cuda.qp1(cublas_handle, cusolver_handle, P=P, lb=lb, rb=rb, G=G, h=h)"
   ]
  }
 ],
 "metadata": {
  "language_info": {
   "name": "python"
  },
  "orig_nbformat": 4
 },
 "nbformat": 4,
 "nbformat_minor": 2
}

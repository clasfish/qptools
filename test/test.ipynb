{
 "cells": [
  {
   "cell_type": "code",
   "execution_count": null,
   "metadata": {},
   "outputs": [],
   "source": [
    "!conda activate pytorch1.8\n",
    "!pip install pybind11\n",
    "!pip install ipython ipykernel notebook\n",
    "!python -m ipykernel install --user --name py312\n",
    "!pip install numpy pandas cvxopt"
   ]
  },
  {
   "cell_type": "code",
   "execution_count": 1,
   "metadata": {},
   "outputs": [],
   "source": [
    "import numpy as np\n",
    "import cvxopt\n",
    "import qptools\n",
    "import qptools.core\n",
    "def get_matrix(path):\n",
    "    #A = pd.read_csv(path, sep=\",\", header=None).values\n",
    "    A = np.loadtxt(path, delimiter=\",\", dtype=np.double)\n",
    "    return A\n",
    "P = get_matrix(\"../../data/P.csv\")\n",
    "q = get_matrix(\"../../data/q.csv\")\n",
    "G = get_matrix(\"../../data/G.csv\")\n",
    "h = get_matrix(\"../../data/h.csv\")\n",
    "G0 = get_matrix(\"../../data/G0.csv\")\n",
    "h0 = get_matrix(\"../../data/h0.csv\")\n",
    "G2 = get_matrix(\"../../data/G2.csv\")\n",
    "h2 = get_matrix(\"../../data/h2.csv\")\n",
    "lb = get_matrix(\"../../data/lb.csv\")\n",
    "rb = get_matrix(\"../../data/rb.csv\")"
   ]
  },
  {
   "cell_type": "code",
   "execution_count": 6,
   "metadata": {},
   "outputs": [
    {
     "name": "stdout",
     "output_type": "stream",
     "text": [
      "0 1 2 3 4\n",
      "5 6 7 8 9\n",
      "10 11 12 13 14\n",
      "15 16 17 18 19\n",
      "20 21 22 23 24\n",
      "25 26 27 28 29\n",
      "30 31 32 33 34\n",
      "35 36 37 38 39\n",
      "40 41 42 43 44\n",
      "45 46 47 48 49\n"
     ]
    }
   ],
   "source": [
    "qptools.matrix(np.arange(50, dtype=np.float64).reshape(10,5)).display()"
   ]
  },
  {
   "cell_type": "code",
   "execution_count": null,
   "metadata": {},
   "outputs": [],
   "source": [
    "import time\n",
    "start = time.time()\n",
    "qptools.matrix(G2).display()\n",
    "print(time.time() - start)"
   ]
  },
  {
   "cell_type": "code",
   "execution_count": 4,
   "metadata": {},
   "outputs": [],
   "source": [
    "x1 = qptools.qp1(P, q=None, lb=None, rb=None, G=G, h=h)\n",
    "x2 = qptools.qp1(P, q=None, lb=lb, rb=rb, G=G0, h=h0)"
   ]
  },
  {
   "cell_type": "code",
   "execution_count": 3,
   "metadata": {},
   "outputs": [
    {
     "name": "stdout",
     "output_type": "stream",
     "text": [
      "     pcost       dcost       gap    pres   dres\n",
      " 0:  9.6454e-03 -2.1872e+00  5e+03  7e+01  5e+01\n",
      " 1:  3.9070e-02 -2.2131e+00  8e+01  1e+00  8e-01\n",
      " 2:  4.9113e-02 -1.9656e+00  7e+00  8e-02  6e-02\n",
      " 3:  6.2733e-02 -9.1397e-01  1e+00  4e-03  3e-03\n",
      " 4:  5.9594e-02 -1.2728e-01  2e-01  2e-04  2e-04\n",
      " 5:  4.8809e-02  2.1174e-02  3e-02  3e-05  2e-05\n",
      " 6:  4.0691e-02  3.4934e-02  6e-03  4e-06  3e-06\n",
      " 7:  3.8304e-02  3.7100e-02  1e-03  5e-07  3e-07\n",
      " 8:  3.7768e-02  3.7628e-02  1e-04  4e-08  3e-08\n",
      " 9:  3.7699e-02  3.7693e-02  6e-06  8e-10  6e-10\n",
      "10:  3.7696e-02  3.7696e-02  2e-07  1e-11  1e-11\n",
      "11:  3.7696e-02  3.7696e-02  5e-09  2e-13  1e-09\n",
      "Optimal solution found.\n"
     ]
    }
   ],
   "source": [
    "result1 = cvxopt.solvers.qp(P=cvxopt.matrix(P), q=cvxopt.matrix(q), G=cvxopt.matrix(G), h=cvxopt.matrix(h))\n",
    "x3 = np.array(result1['x']).squeeze()"
   ]
  },
  {
   "cell_type": "code",
   "execution_count": 7,
   "metadata": {},
   "outputs": [
    {
     "name": "stdout",
     "output_type": "stream",
     "text": [
      "0.0\n",
      "0.0\n"
     ]
    }
   ],
   "source": [
    "print(abs(x1 - x3).min())\n",
    "print(abs(x2 - x3).min())"
   ]
  },
  {
   "cell_type": "code",
   "execution_count": 3,
   "metadata": {},
   "outputs": [],
   "source": [
    "x4 = qptools.qp2(P, q=None, lb=None, rb=None, G=G2, h=h2)\n",
    "x5 = qptools.qp2(P, q=None, lb=lb, rb=rb, G=G0, h=h0)"
   ]
  },
  {
   "cell_type": "code",
   "execution_count": 4,
   "metadata": {},
   "outputs": [
    {
     "name": "stdout",
     "output_type": "stream",
     "text": [
      "     pcost       dcost       gap    pres   dres\n",
      " 0:  9.5819e-03 -2.1212e+00  5e+03  7e+01  2e+02\n",
      " 1:  1.5084e-01 -8.9584e+00  4e+03  5e+01  1e+02\n",
      " 2:  7.2961e+01 -1.8895e+02  3e+03  3e+01  7e+01\n",
      " 3:  4.8001e+01 -5.7532e+01  5e+02  4e+00  9e+00\n",
      " 4:  2.3013e+01 -2.3121e+01  7e+01  3e-01  6e-01\n",
      " 5:  5.4629e+00 -5.4063e+00  1e+01  1e-02  3e-02\n",
      " 6:  8.5417e-01 -8.2765e-01  2e+00  3e-14  3e-13\n",
      " 7:  1.2964e-01 -1.1434e-01  2e-01  7e-15  3e-13\n",
      " 8:  4.9350e-02 -2.7054e-02  8e-02  1e-15  8e-14\n",
      " 9:  4.8645e-02  1.8801e-02  3e-02  8e-16  2e-14\n",
      "10:  4.0788e-02  3.4875e-02  6e-03  2e-15  1e-14\n",
      "11:  3.8108e-02  3.7276e-02  8e-04  9e-16  1e-14\n",
      "12:  3.7746e-02  3.7645e-02  1e-04  6e-16  2e-14\n",
      "13:  3.7698e-02  3.7694e-02  5e-06  4e-16  9e-14\n",
      "14:  3.7696e-02  3.7696e-02  1e-07  9e-16  9e-14\n",
      "15:  3.7696e-02  3.7696e-02  3e-09  2e-15  4e-12\n",
      "Optimal solution found.\n"
     ]
    }
   ],
   "source": [
    "result2 = cvxopt.solvers.qp(P=cvxopt.matrix(P), q=cvxopt.matrix(q), G=cvxopt.matrix(G2), h=cvxopt.matrix(h2))\n",
    "x6 = np.array(result2['x']).squeeze()"
   ]
  },
  {
   "cell_type": "code",
   "execution_count": 5,
   "metadata": {},
   "outputs": [
    {
     "name": "stdout",
     "output_type": "stream",
     "text": [
      "0.0\n",
      "1.07852684086439e-18\n"
     ]
    }
   ],
   "source": [
    "print(abs(x4 - x6).min())\n",
    "print(abs(x5 - x6).min())"
   ]
  },
  {
   "cell_type": "code",
   "execution_count": 1,
   "metadata": {},
   "outputs": [],
   "source": [
    "import sys\n",
    "sys.path.append(\"../\")\n",
    "import numpy as np\n",
    "import cuda"
   ]
  },
  {
   "cell_type": "code",
   "execution_count": 9,
   "metadata": {},
   "outputs": [
    {
     "data": {
      "text/plain": [
       "array([0., 1., 2., 3.])"
      ]
     },
     "execution_count": 9,
     "metadata": {},
     "output_type": "execute_result"
    }
   ],
   "source": [
    "A = np.arange(4, dtype=np.double)\n",
    "A"
   ]
  },
  {
   "cell_type": "code",
   "execution_count": 10,
   "metadata": {},
   "outputs": [
    {
     "name": "stdout",
     "output_type": "stream",
     "text": [
      "4\n",
      "0\n",
      "1\n",
      "2\n",
      "3\n"
     ]
    }
   ],
   "source": [
    "cuda.cumatrix_fromBuffer(A).display()"
   ]
  },
  {
   "cell_type": "code",
   "execution_count": 9,
   "metadata": {},
   "outputs": [
    {
     "data": {
      "text/plain": [
       "(24, 8)"
      ]
     },
     "execution_count": 9,
     "metadata": {},
     "output_type": "execute_result"
    }
   ],
   "source": [
    "A."
   ]
  },
  {
   "cell_type": "code",
   "execution_count": null,
   "metadata": {},
   "outputs": [],
   "source": []
  }
 ],
 "metadata": {
  "kernelspec": {
   "display_name": "PyTorch 1.8",
   "language": "python",
   "name": "torch1.8"
  },
  "language_info": {
   "codemirror_mode": {
    "name": "ipython",
    "version": 3
   },
   "file_extension": ".py",
   "mimetype": "text/x-python",
   "name": "python",
   "nbconvert_exporter": "python",
   "pygments_lexer": "ipython3",
   "version": "3.9.7"
  }
 },
 "nbformat": 4,
 "nbformat_minor": 4
}
